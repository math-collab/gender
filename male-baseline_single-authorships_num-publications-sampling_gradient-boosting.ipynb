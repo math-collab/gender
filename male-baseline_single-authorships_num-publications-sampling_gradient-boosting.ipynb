{
 "cells": [
  {
   "cell_type": "code",
   "execution_count": 1,
   "metadata": {},
   "outputs": [],
   "source": [
    "import bias\n",
    "\n",
    "import numpy as np\n",
    "import pandas as pd\n",
    "import seaborn as sns\n",
    "\n",
    "from sklearn.compose import ColumnTransformer\n",
    "from sklearn.ensemble import GradientBoostingRegressor\n",
    "from sklearn.impute import SimpleImputer\n",
    "from sklearn.metrics import mean_absolute_error, r2_score\n",
    "from sklearn.model_selection import KFold, RandomizedSearchCV, train_test_split\n",
    "from sklearn.pipeline import make_pipeline, Pipeline\n",
    "from sklearn.preprocessing import OneHotEncoder, StandardScaler"
   ]
  },
  {
   "cell_type": "code",
   "execution_count": 2,
   "metadata": {},
   "outputs": [],
   "source": [
    "RANDOM_STATE = 1\n",
    "SAMPLING_COLUMN = \"num_aggl_publications_cluster\"      # name of the feature / column that is used to sample the test data into equally sized data sets\n",
    "\n",
    "NUMERIC_FEATURES = [\"year\", \"author_seniority\", \"num_aggl_publications\"] # -> lieber num_aggl_publications_cluster als weiteres CATEGORIAL Feature?\n",
    "CATEGORIAL_FEATURES = [\"author_classification_cluster\", \"author_journal_classification\", \"author_continent\"]\n",
    "\n",
    "TARGET_FEATURE = \"num_aggl_single_publications\" # name of the feature / clumn that will be predicted\n",
    "\n",
    "\n",
    "FEATURE_PREPROCESSOR = ColumnTransformer(\n",
    "    n_jobs=3,\n",
    "    transformers=[\n",
    "        ('num',\n",
    "            Pipeline(steps=[\n",
    "                ('imputer', SimpleImputer(strategy='median')),\n",
    "                #('scaler', StandardScaler())\n",
    "            ]), NUMERIC_FEATURES),\n",
    "        ('cat', OneHotEncoder(), CATEGORIAL_FEATURES)  # OneHotEncoder(drop=\"first\")\n",
    "    ])\n",
    "\n",
    "MODEL = GradientBoostingRegressor()\n",
    "#MODEL = GradientBoostingRegressor(max_depth=6, max_leaf_nodes=64)\n",
    "\n",
    "PARAM_GRID = {\n",
    "    'max_depth': list(range(5, 20)),\n",
    "    'min_samples_leaf': list(range(5, 50, 5)),\n",
    "    'n_estimators': list(range(100, 200, 10)),\n",
    "    'random_state' : [RANDOM_STATE],\n",
    "    'verbose' : [0]\n",
    "}\n",
    "\n",
    "\n",
    "PARAM_SEARCH = RandomizedSearchCV(\n",
    "    MODEL,\n",
    "    PARAM_GRID,\n",
    "    random_state=RANDOM_STATE,\n",
    "    cv=KFold(n_splits=5, shuffle=True, random_state=RANDOM_STATE),     # cross-validation spliter\n",
    "    n_iter=20, # number of tested parameter sets\n",
    "    n_jobs=6, # number of parallel processes\n",
    "    scoring=\"r2\",\n",
    "    return_train_score=True,\n",
    "    verbose=2)"
   ]
  },
  {
   "cell_type": "code",
   "execution_count": 3,
   "metadata": {},
   "outputs": [],
   "source": [
    "data = bias.preprocess_dataset(\"zbmath_simple_collaboration_model_1970-2019.csv\",\n",
    "        categorial_rows=CATEGORIAL_FEATURES + [\"author_gender\", \"author_classification\"],\n",
    "        drop_rows=[\"author_id\", \"num_aggl_collaborations\", \"num_aggl_collaborators\"])"
   ]
  },
  {
   "cell_type": "code",
   "execution_count": 4,
   "metadata": {},
   "outputs": [
    {
     "data": {
      "text/html": [
       "<div>\n",
       "<style scoped>\n",
       "    .dataframe tbody tr th:only-of-type {\n",
       "        vertical-align: middle;\n",
       "    }\n",
       "\n",
       "    .dataframe tbody tr th {\n",
       "        vertical-align: top;\n",
       "    }\n",
       "\n",
       "    .dataframe thead th {\n",
       "        text-align: right;\n",
       "    }\n",
       "</style>\n",
       "<table border=\"1\" class=\"dataframe\">\n",
       "  <thead>\n",
       "    <tr style=\"text-align: right;\">\n",
       "      <th></th>\n",
       "      <th>year</th>\n",
       "      <th>author_gender</th>\n",
       "      <th>author_country</th>\n",
       "      <th>author_seniority</th>\n",
       "      <th>author_classification</th>\n",
       "      <th>author_journal_classification</th>\n",
       "      <th>num_aggl_publications</th>\n",
       "      <th>num_aggl_single_publications</th>\n",
       "      <th>author_continent</th>\n",
       "      <th>num_aggl_publications_cluster</th>\n",
       "      <th>author_classification_cluster</th>\n",
       "    </tr>\n",
       "  </thead>\n",
       "  <tbody>\n",
       "    <tr>\n",
       "      <th>160867</th>\n",
       "      <td>1979</td>\n",
       "      <td>u</td>\n",
       "      <td>Other</td>\n",
       "      <td>5</td>\n",
       "      <td>20</td>\n",
       "      <td>FAST TRACK</td>\n",
       "      <td>4</td>\n",
       "      <td>4</td>\n",
       "      <td></td>\n",
       "      <td>d) 4</td>\n",
       "      <td>Algebra</td>\n",
       "    </tr>\n",
       "    <tr>\n",
       "      <th>2162138</th>\n",
       "      <td>2000</td>\n",
       "      <td>m</td>\n",
       "      <td>US</td>\n",
       "      <td>30</td>\n",
       "      <td>20</td>\n",
       "      <td>FAST TRACK</td>\n",
       "      <td>33</td>\n",
       "      <td>19</td>\n",
       "      <td>NA</td>\n",
       "      <td>l) 30-50</td>\n",
       "      <td>Algebra</td>\n",
       "    </tr>\n",
       "    <tr>\n",
       "      <th>2633938</th>\n",
       "      <td>2006</td>\n",
       "      <td>f</td>\n",
       "      <td>GB</td>\n",
       "      <td>9</td>\n",
       "      <td>62</td>\n",
       "      <td>KAT 2</td>\n",
       "      <td>6</td>\n",
       "      <td>0</td>\n",
       "      <td>EU</td>\n",
       "      <td>f) 6</td>\n",
       "      <td>Probability / Statistics / Operations research</td>\n",
       "    </tr>\n",
       "    <tr>\n",
       "      <th>1432990</th>\n",
       "      <td>2006</td>\n",
       "      <td>u</td>\n",
       "      <td>CN</td>\n",
       "      <td>8</td>\n",
       "      <td>53</td>\n",
       "      <td>KAT 2</td>\n",
       "      <td>5</td>\n",
       "      <td>1</td>\n",
       "      <td>AS</td>\n",
       "      <td>e) 5</td>\n",
       "      <td>Differential geometry</td>\n",
       "    </tr>\n",
       "  </tbody>\n",
       "</table>\n",
       "</div>"
      ],
      "text/plain": [
       "         year author_gender author_country  author_seniority  \\\n",
       "160867   1979             u          Other                 5   \n",
       "2162138  2000             m             US                30   \n",
       "2633938  2006             f             GB                 9   \n",
       "1432990  2006             u             CN                 8   \n",
       "\n",
       "        author_classification author_journal_classification  \\\n",
       "160867                     20                    FAST TRACK   \n",
       "2162138                    20                    FAST TRACK   \n",
       "2633938                    62                         KAT 2   \n",
       "1432990                    53                         KAT 2   \n",
       "\n",
       "         num_aggl_publications  num_aggl_single_publications author_continent  \\\n",
       "160867                       4                             4                    \n",
       "2162138                     33                            19               NA   \n",
       "2633938                      6                             0               EU   \n",
       "1432990                      5                             1               AS   \n",
       "\n",
       "        num_aggl_publications_cluster  \\\n",
       "160867                           d) 4   \n",
       "2162138                      l) 30-50   \n",
       "2633938                          f) 6   \n",
       "1432990                          e) 5   \n",
       "\n",
       "                          author_classification_cluster  \n",
       "160867                                          Algebra  \n",
       "2162138                                         Algebra  \n",
       "2633938  Probability / Statistics / Operations research  \n",
       "1432990                           Differential geometry  "
      ]
     },
     "execution_count": 4,
     "metadata": {},
     "output_type": "execute_result"
    }
   ],
   "source": [
    "# Cluster num_aggl_publications and author_classification columns\n",
    "data = bias.cluster_column(data, bias.PUBLICATION_COUNT_CLUSTERING, \"num_aggl_publications\", newcolumn=\"num_aggl_publications_cluster\")\n",
    "data = bias.cluster_column(data, bias.EGONET_1_CLUSTERING, \"author_classification\", newcolumn=\"author_classification_cluster\")\n",
    "data = data.loc[data.year>=1970]\n",
    "data.sample(4)"
   ]
  },
  {
   "cell_type": "code",
   "execution_count": 5,
   "metadata": {},
   "outputs": [],
   "source": [
    "male_all = data.loc[data.author_gender == 'm']\n",
    "female_test = data.loc[data.author_gender == 'f']\n",
    "\n",
    "male_all = male_all.drop([\"author_gender\", \"author_country\"], axis=1)\n",
    "female_test = female_test.drop([\"author_gender\", \"author_country\"], axis=1)"
   ]
  },
  {
   "cell_type": "markdown",
   "metadata": {},
   "source": [
    "## Sampling"
   ]
  },
  {
   "cell_type": "code",
   "execution_count": 6,
   "metadata": {},
   "outputs": [
    {
     "name": "stdout",
     "output_type": "stream",
     "text": [
      "a) 1\n",
      "b) 2\n",
      "c) 3\n",
      "d) 4\n",
      "e) 5\n",
      "f) 6\n",
      "g) 7-8\n",
      "h) 9-10\n",
      "i) 11-13\n",
      "j) 14-18\n",
      "k) 19-29\n",
      "l) 30-50\n",
      "m) >50\n"
     ]
    }
   ],
   "source": [
    "# create train/test split \n",
    "male_train, male_test = bias.sampled_train_test_split(male_all, female_test, \n",
    "        SAMPLING_COLUMN, random_state=RANDOM_STATE)"
   ]
  },
  {
   "cell_type": "code",
   "execution_count": 7,
   "metadata": {},
   "outputs": [
    {
     "data": {
      "text/plain": [
       "<AxesSubplot:xlabel='num_aggl_publications_cluster'>"
      ]
     },
     "execution_count": 7,
     "metadata": {},
     "output_type": "execute_result"
    },
    {
     "data": {
      "image/png": "[encoded data removed]",
      "text/plain": [
       "<Figure size 432x288 with 1 Axes>"
      ]
     },
     "metadata": {
      "needs_background": "light"
     },
     "output_type": "display_data"
    }
   ],
   "source": [
    "male_test.groupby([SAMPLING_COLUMN]).size().plot(kind=\"bar\")"
   ]
  },
  {
   "cell_type": "code",
   "execution_count": 8,
   "metadata": {},
   "outputs": [
    {
     "data": {
      "text/plain": [
       "<AxesSubplot:xlabel='num_aggl_publications_cluster'>"
      ]
     },
     "execution_count": 8,
     "metadata": {},
     "output_type": "execute_result"
    },
    {
     "data": {
      "image/png": "[encoded data removed]",
      "text/plain": [
       "<Figure size 432x288 with 1 Axes>"
      ]
     },
     "metadata": {
      "needs_background": "light"
     },
     "output_type": "display_data"
    }
   ],
   "source": [
    "female_test.groupby([SAMPLING_COLUMN]).size().plot(kind=\"bar\")"
   ]
  },
  {
   "cell_type": "code",
   "execution_count": 9,
   "metadata": {},
   "outputs": [
    {
     "data": {
      "text/plain": [
       "<AxesSubplot:xlabel='num_aggl_publications_cluster'>"
      ]
     },
     "execution_count": 9,
     "metadata": {},
     "output_type": "execute_result"
    },
    {
     "data": {
      "image/png": "[encoded data removed]",
      "text/plain": [
       "<Figure size 432x288 with 1 Axes>"
      ]
     },
     "metadata": {
      "needs_background": "light"
     },
     "output_type": "display_data"
    }
   ],
   "source": [
    "male_train.groupby([SAMPLING_COLUMN]).size().plot(kind=\"bar\")"
   ]
  },
  {
   "cell_type": "markdown",
   "metadata": {},
   "source": [
    "Wir sehen, dass der Anteil von Frauen mit vielen Publikationen sehr vil geringer ist als bei Männern."
   ]
  },
  {
   "cell_type": "code",
   "execution_count": 10,
   "metadata": {},
   "outputs": [],
   "source": [
    "male_train = male_train.drop(\"num_aggl_publications_cluster\", axis=1)\n",
    "male_test = male_test.drop(\"num_aggl_publications_cluster\", axis=1)\n",
    "female_test = female_test.drop(\"num_aggl_publications_cluster\", axis=1)"
   ]
  },
  {
   "cell_type": "code",
   "execution_count": 11,
   "metadata": {},
   "outputs": [
    {
     "data": {
      "text/html": [
       "<div>\n",
       "<style scoped>\n",
       "    .dataframe tbody tr th:only-of-type {\n",
       "        vertical-align: middle;\n",
       "    }\n",
       "\n",
       "    .dataframe tbody tr th {\n",
       "        vertical-align: top;\n",
       "    }\n",
       "\n",
       "    .dataframe thead th {\n",
       "        text-align: right;\n",
       "    }\n",
       "</style>\n",
       "<table border=\"1\" class=\"dataframe\">\n",
       "  <thead>\n",
       "    <tr style=\"text-align: right;\">\n",
       "      <th></th>\n",
       "      <th>year</th>\n",
       "      <th>author_seniority</th>\n",
       "      <th>author_classification</th>\n",
       "      <th>author_journal_classification</th>\n",
       "      <th>num_aggl_publications</th>\n",
       "      <th>num_aggl_single_publications</th>\n",
       "      <th>author_continent</th>\n",
       "      <th>author_classification_cluster</th>\n",
       "    </tr>\n",
       "  </thead>\n",
       "  <tbody>\n",
       "    <tr>\n",
       "      <th>2305363</th>\n",
       "      <td>1999</td>\n",
       "      <td>26</td>\n",
       "      <td>76</td>\n",
       "      <td>KAT 2</td>\n",
       "      <td>72</td>\n",
       "      <td>10</td>\n",
       "      <td>EU</td>\n",
       "      <td>PDE / Numerical / Physics</td>\n",
       "    </tr>\n",
       "    <tr>\n",
       "      <th>1696242</th>\n",
       "      <td>2000</td>\n",
       "      <td>6</td>\n",
       "      <td>11</td>\n",
       "      <td>FAST TRACK</td>\n",
       "      <td>6</td>\n",
       "      <td>4</td>\n",
       "      <td>AS</td>\n",
       "      <td>Number theory / Algebraic geometry</td>\n",
       "    </tr>\n",
       "  </tbody>\n",
       "</table>\n",
       "</div>"
      ],
      "text/plain": [
       "         year  author_seniority author_classification  \\\n",
       "2305363  1999                26                    76   \n",
       "1696242  2000                 6                    11   \n",
       "\n",
       "        author_journal_classification  num_aggl_publications  \\\n",
       "2305363                         KAT 2                     72   \n",
       "1696242                    FAST TRACK                      6   \n",
       "\n",
       "         num_aggl_single_publications author_continent  \\\n",
       "2305363                            10               EU   \n",
       "1696242                             4               AS   \n",
       "\n",
       "              author_classification_cluster  \n",
       "2305363           PDE / Numerical / Physics  \n",
       "1696242  Number theory / Algebraic geometry  "
      ]
     },
     "execution_count": 11,
     "metadata": {},
     "output_type": "execute_result"
    }
   ],
   "source": [
    "male_train.sample(2)"
   ]
  },
  {
   "cell_type": "code",
   "execution_count": 12,
   "metadata": {},
   "outputs": [],
   "source": [
    "X_train, y_train = bias.X_y_split(male_train, TARGET_FEATURE)\n",
    "X_male_test, y_male_test = bias.X_y_split(male_test, TARGET_FEATURE)\n",
    "X_female_test, y_female_test = bias.X_y_split(female_test, TARGET_FEATURE)"
   ]
  },
  {
   "cell_type": "code",
   "execution_count": 13,
   "metadata": {},
   "outputs": [],
   "source": [
    "X_train_t = FEATURE_PREPROCESSOR.fit_transform(X_train)\n",
    "X_male_test_t = FEATURE_PREPROCESSOR.transform(X_male_test)\n",
    "X_female_test_t = FEATURE_PREPROCESSOR.transform(X_female_test)\n",
    "\n",
    "feature_names = NUMERIC_FEATURES+list(FEATURE_PREPROCESSOR.transformers_[1][1].get_feature_names())"
   ]
  },
  {
   "cell_type": "code",
   "execution_count": 14,
   "metadata": {},
   "outputs": [],
   "source": [
    "Df = pd.DataFrame\n",
    "\n",
    "if FEATURE_PREPROCESSOR.sparse_output_:\n",
    "    Df = pd.DataFrame.sparse.from_spmatrix\n",
    "\n",
    "X_train_t = Df(X_train_t, columns=feature_names, index=X_train.index)\n",
    "X_male_test_t = Df(X_male_test_t, columns=feature_names, index=X_male_test.index)\n",
    "X_female_test_t = Df(X_female_test_t, columns=feature_names, index=X_female_test.index)"
   ]
  },
  {
   "cell_type": "markdown",
   "metadata": {},
   "source": [
    "## Hyperparameter Search"
   ]
  },
  {
   "cell_type": "code",
   "execution_count": null,
   "metadata": {},
   "outputs": [
    {
     "name": "stdout",
     "output_type": "stream",
     "text": [
      "Fitting 5 folds for each of 20 candidates, totalling 100 fits\n"
     ]
    }
   ],
   "source": [
    "PARAM_SEARCH.fit(X_train_t, y_train)\n",
    "\n",
    "hparam_results = pd.DataFrame(PARAM_SEARCH.cv_results_)\n",
    "best_model = PARAM_SEARCH.best_estimator_"
   ]
  },
  {
   "cell_type": "code",
   "execution_count": null,
   "metadata": {},
   "outputs": [],
   "source": [
    "print(\"Best hyperparameters found:\\n  {}\".format(PARAM_SEARCH.best_params_))\n",
    "\n",
    "hparam_results.sort_values(\"rank_test_score\")"
   ]
  },
  {
   "cell_type": "code",
   "execution_count": null,
   "metadata": {},
   "outputs": [],
   "source": [
    "hparam_results[[\"param_n_estimators\", \"param_min_samples_leaf\", \n",
    "                \"param_max_depth\",\"mean_train_score\", \"mean_test_score\"]].sort_values(by=\"mean_test_score\")"
   ]
  },
  {
   "cell_type": "markdown",
   "metadata": {},
   "source": [
    "## Evaluate model"
   ]
  },
  {
   "cell_type": "code",
   "execution_count": null,
   "metadata": {},
   "outputs": [],
   "source": [
    "train_result, test_results = bias.single_train_multi_test_eval(\n",
    "        best_model, X_train_t, y_train, copy=[\"year\", \"author_seniority\", \"num_aggl_publications\"], fit=False,\n",
    "        female=(X_female_test_t, y_female_test), male=(X_male_test_t, y_male_test))"
   ]
  },
  {
   "cell_type": "code",
   "execution_count": 20,
   "metadata": {},
   "outputs": [
    {
     "ename": "KeyError",
     "evalue": "\"['single_publication_perc'] not found in axis\"",
     "output_type": "error",
     "traceback": [
      "\u001b[0;31m---------------------------------------------------------------------------\u001b[0m",
      "\u001b[0;31mKeyError\u001b[0m                                  Traceback (most recent call last)",
      "\u001b[0;32m<ipython-input-20-80a403086f33>\u001b[0m in \u001b[0;36m<module>\u001b[0;34m\u001b[0m\n\u001b[1;32m      7\u001b[0m     \u001b[0mres\u001b[0m\u001b[0;34m[\u001b[0m\u001b[0;34m\"y_perc\"\u001b[0m\u001b[0;34m]\u001b[0m \u001b[0;34m=\u001b[0m \u001b[0mres\u001b[0m\u001b[0;34m[\u001b[0m\u001b[0;34m\"y\"\u001b[0m\u001b[0;34m]\u001b[0m\u001b[0;34m*\u001b[0m\u001b[0;36m100\u001b[0m \u001b[0;34m/\u001b[0m \u001b[0mres\u001b[0m\u001b[0;34m[\u001b[0m\u001b[0;34m\"num_aggl_publications\"\u001b[0m\u001b[0;34m]\u001b[0m\u001b[0;34m\u001b[0m\u001b[0;34m\u001b[0m\u001b[0m\n\u001b[1;32m      8\u001b[0m     \u001b[0mres\u001b[0m\u001b[0;34m[\u001b[0m\u001b[0;34m\"y_hat_perc\"\u001b[0m\u001b[0;34m]\u001b[0m \u001b[0;34m=\u001b[0m \u001b[0mres\u001b[0m\u001b[0;34m[\u001b[0m\u001b[0;34m\"y_hat\"\u001b[0m\u001b[0;34m]\u001b[0m\u001b[0;34m*\u001b[0m\u001b[0;36m100\u001b[0m \u001b[0;34m/\u001b[0m \u001b[0mres\u001b[0m\u001b[0;34m[\u001b[0m\u001b[0;34m\"num_aggl_publications\"\u001b[0m\u001b[0;34m]\u001b[0m\u001b[0;34m\u001b[0m\u001b[0;34m\u001b[0m\u001b[0m\n\u001b[0;32m----> 9\u001b[0;31m     \u001b[0mres\u001b[0m\u001b[0;34m.\u001b[0m\u001b[0mdrop\u001b[0m\u001b[0;34m(\u001b[0m\u001b[0;34m[\u001b[0m\u001b[0;34m\"single_publication_perc\"\u001b[0m\u001b[0;34m]\u001b[0m\u001b[0;34m,\u001b[0m \u001b[0maxis\u001b[0m\u001b[0;34m=\u001b[0m\u001b[0;36m1\u001b[0m\u001b[0;34m)\u001b[0m\u001b[0;34m\u001b[0m\u001b[0;34m\u001b[0m\u001b[0m\n\u001b[0m\u001b[1;32m     10\u001b[0m     \u001b[0mres\u001b[0m \u001b[0;34m=\u001b[0m \u001b[0mbias\u001b[0m\u001b[0;34m.\u001b[0m\u001b[0mcluster_column\u001b[0m\u001b[0;34m(\u001b[0m\u001b[0mres\u001b[0m\u001b[0;34m,\u001b[0m \u001b[0mbias\u001b[0m\u001b[0;34m.\u001b[0m\u001b[0mPUBLICATION_COUNT_CLUSTERING\u001b[0m\u001b[0;34m,\u001b[0m \u001b[0;34m\"num_aggl_publications\"\u001b[0m\u001b[0;34m,\u001b[0m \u001b[0mnewcolumn\u001b[0m\u001b[0;34m=\u001b[0m\u001b[0;34m\"num_aggl_publications_cluster\"\u001b[0m\u001b[0;34m)\u001b[0m\u001b[0;34m\u001b[0m\u001b[0;34m\u001b[0m\u001b[0m\n",
      "\u001b[0;32m/opt/anaconda3/lib/python3.8/site-packages/pandas/core/frame.py\u001b[0m in \u001b[0;36mdrop\u001b[0;34m(self, labels, axis, index, columns, level, inplace, errors)\u001b[0m\n\u001b[1;32m   4303\u001b[0m                 \u001b[0mweight\u001b[0m  \u001b[0;36m1.0\u001b[0m     \u001b[0;36m0.8\u001b[0m\u001b[0;34m\u001b[0m\u001b[0;34m\u001b[0m\u001b[0m\n\u001b[1;32m   4304\u001b[0m         \"\"\"\n\u001b[0;32m-> 4305\u001b[0;31m         return super().drop(\n\u001b[0m\u001b[1;32m   4306\u001b[0m             \u001b[0mlabels\u001b[0m\u001b[0;34m=\u001b[0m\u001b[0mlabels\u001b[0m\u001b[0;34m,\u001b[0m\u001b[0;34m\u001b[0m\u001b[0;34m\u001b[0m\u001b[0m\n\u001b[1;32m   4307\u001b[0m             \u001b[0maxis\u001b[0m\u001b[0;34m=\u001b[0m\u001b[0maxis\u001b[0m\u001b[0;34m,\u001b[0m\u001b[0;34m\u001b[0m\u001b[0;34m\u001b[0m\u001b[0m\n",
      "\u001b[0;32m/opt/anaconda3/lib/python3.8/site-packages/pandas/core/generic.py\u001b[0m in \u001b[0;36mdrop\u001b[0;34m(self, labels, axis, index, columns, level, inplace, errors)\u001b[0m\n\u001b[1;32m   4148\u001b[0m         \u001b[0;32mfor\u001b[0m \u001b[0maxis\u001b[0m\u001b[0;34m,\u001b[0m \u001b[0mlabels\u001b[0m \u001b[0;32min\u001b[0m \u001b[0maxes\u001b[0m\u001b[0;34m.\u001b[0m\u001b[0mitems\u001b[0m\u001b[0;34m(\u001b[0m\u001b[0;34m)\u001b[0m\u001b[0;34m:\u001b[0m\u001b[0;34m\u001b[0m\u001b[0;34m\u001b[0m\u001b[0m\n\u001b[1;32m   4149\u001b[0m             \u001b[0;32mif\u001b[0m \u001b[0mlabels\u001b[0m \u001b[0;32mis\u001b[0m \u001b[0;32mnot\u001b[0m \u001b[0;32mNone\u001b[0m\u001b[0;34m:\u001b[0m\u001b[0;34m\u001b[0m\u001b[0;34m\u001b[0m\u001b[0m\n\u001b[0;32m-> 4150\u001b[0;31m                 \u001b[0mobj\u001b[0m \u001b[0;34m=\u001b[0m \u001b[0mobj\u001b[0m\u001b[0;34m.\u001b[0m\u001b[0m_drop_axis\u001b[0m\u001b[0;34m(\u001b[0m\u001b[0mlabels\u001b[0m\u001b[0;34m,\u001b[0m \u001b[0maxis\u001b[0m\u001b[0;34m,\u001b[0m \u001b[0mlevel\u001b[0m\u001b[0;34m=\u001b[0m\u001b[0mlevel\u001b[0m\u001b[0;34m,\u001b[0m \u001b[0merrors\u001b[0m\u001b[0;34m=\u001b[0m\u001b[0merrors\u001b[0m\u001b[0;34m)\u001b[0m\u001b[0;34m\u001b[0m\u001b[0;34m\u001b[0m\u001b[0m\n\u001b[0m\u001b[1;32m   4151\u001b[0m \u001b[0;34m\u001b[0m\u001b[0m\n\u001b[1;32m   4152\u001b[0m         \u001b[0;32mif\u001b[0m \u001b[0minplace\u001b[0m\u001b[0;34m:\u001b[0m\u001b[0;34m\u001b[0m\u001b[0;34m\u001b[0m\u001b[0m\n",
      "\u001b[0;32m/opt/anaconda3/lib/python3.8/site-packages/pandas/core/generic.py\u001b[0m in \u001b[0;36m_drop_axis\u001b[0;34m(self, labels, axis, level, errors)\u001b[0m\n\u001b[1;32m   4183\u001b[0m                 \u001b[0mnew_axis\u001b[0m \u001b[0;34m=\u001b[0m \u001b[0maxis\u001b[0m\u001b[0;34m.\u001b[0m\u001b[0mdrop\u001b[0m\u001b[0;34m(\u001b[0m\u001b[0mlabels\u001b[0m\u001b[0;34m,\u001b[0m \u001b[0mlevel\u001b[0m\u001b[0;34m=\u001b[0m\u001b[0mlevel\u001b[0m\u001b[0;34m,\u001b[0m \u001b[0merrors\u001b[0m\u001b[0;34m=\u001b[0m\u001b[0merrors\u001b[0m\u001b[0;34m)\u001b[0m\u001b[0;34m\u001b[0m\u001b[0;34m\u001b[0m\u001b[0m\n\u001b[1;32m   4184\u001b[0m             \u001b[0;32melse\u001b[0m\u001b[0;34m:\u001b[0m\u001b[0;34m\u001b[0m\u001b[0;34m\u001b[0m\u001b[0m\n\u001b[0;32m-> 4185\u001b[0;31m                 \u001b[0mnew_axis\u001b[0m \u001b[0;34m=\u001b[0m \u001b[0maxis\u001b[0m\u001b[0;34m.\u001b[0m\u001b[0mdrop\u001b[0m\u001b[0;34m(\u001b[0m\u001b[0mlabels\u001b[0m\u001b[0;34m,\u001b[0m \u001b[0merrors\u001b[0m\u001b[0;34m=\u001b[0m\u001b[0merrors\u001b[0m\u001b[0;34m)\u001b[0m\u001b[0;34m\u001b[0m\u001b[0;34m\u001b[0m\u001b[0m\n\u001b[0m\u001b[1;32m   4186\u001b[0m             \u001b[0mresult\u001b[0m \u001b[0;34m=\u001b[0m \u001b[0mself\u001b[0m\u001b[0;34m.\u001b[0m\u001b[0mreindex\u001b[0m\u001b[0;34m(\u001b[0m\u001b[0;34m**\u001b[0m\u001b[0;34m{\u001b[0m\u001b[0maxis_name\u001b[0m\u001b[0;34m:\u001b[0m \u001b[0mnew_axis\u001b[0m\u001b[0;34m}\u001b[0m\u001b[0;34m)\u001b[0m\u001b[0;34m\u001b[0m\u001b[0;34m\u001b[0m\u001b[0m\n\u001b[1;32m   4187\u001b[0m \u001b[0;34m\u001b[0m\u001b[0m\n",
      "\u001b[0;32m/opt/anaconda3/lib/python3.8/site-packages/pandas/core/indexes/base.py\u001b[0m in \u001b[0;36mdrop\u001b[0;34m(self, labels, errors)\u001b[0m\n\u001b[1;32m   5589\u001b[0m         \u001b[0;32mif\u001b[0m \u001b[0mmask\u001b[0m\u001b[0;34m.\u001b[0m\u001b[0many\u001b[0m\u001b[0;34m(\u001b[0m\u001b[0;34m)\u001b[0m\u001b[0;34m:\u001b[0m\u001b[0;34m\u001b[0m\u001b[0;34m\u001b[0m\u001b[0m\n\u001b[1;32m   5590\u001b[0m             \u001b[0;32mif\u001b[0m \u001b[0merrors\u001b[0m \u001b[0;34m!=\u001b[0m \u001b[0;34m\"ignore\"\u001b[0m\u001b[0;34m:\u001b[0m\u001b[0;34m\u001b[0m\u001b[0;34m\u001b[0m\u001b[0m\n\u001b[0;32m-> 5591\u001b[0;31m                 \u001b[0;32mraise\u001b[0m \u001b[0mKeyError\u001b[0m\u001b[0;34m(\u001b[0m\u001b[0;34mf\"{labels[mask]} not found in axis\"\u001b[0m\u001b[0;34m)\u001b[0m\u001b[0;34m\u001b[0m\u001b[0;34m\u001b[0m\u001b[0m\n\u001b[0m\u001b[1;32m   5592\u001b[0m             \u001b[0mindexer\u001b[0m \u001b[0;34m=\u001b[0m \u001b[0mindexer\u001b[0m\u001b[0;34m[\u001b[0m\u001b[0;34m~\u001b[0m\u001b[0mmask\u001b[0m\u001b[0;34m]\u001b[0m\u001b[0;34m\u001b[0m\u001b[0;34m\u001b[0m\u001b[0m\n\u001b[1;32m   5593\u001b[0m         \u001b[0;32mreturn\u001b[0m \u001b[0mself\u001b[0m\u001b[0;34m.\u001b[0m\u001b[0mdelete\u001b[0m\u001b[0;34m(\u001b[0m\u001b[0mindexer\u001b[0m\u001b[0;34m)\u001b[0m\u001b[0;34m\u001b[0m\u001b[0;34m\u001b[0m\u001b[0m\n",
      "\u001b[0;31mKeyError\u001b[0m: \"['single_publication_perc'] not found in axis\""
     ]
    }
   ],
   "source": [
    "# Add additional evaluation metrics\n",
    "for res in [train_result] + list(test_results.values()):\n",
    "    res[\"y/y_hat\"] = res[\"y\"]/res[\"y_hat\"]\n",
    "    res[\"y_hat-y\"] = res[\"y_hat\"]-res[\"y\"]\n",
    "    res[\"y_hat+y\"] = res[\"y_hat\"]+res[\"y\"]\n",
    "    res[\"(y_hat-y)/(y_hat+y)\"] = res[\"y_hat-y\"]/res[\"y_hat+y\"]\n",
    "    res[\"y_perc\"] = res[\"y\"]*100 / res[\"num_aggl_publications\"]\n",
    "    res[\"y_hat_perc\"] = res[\"y_hat\"]*100 / res[\"num_aggl_publications\"]\n",
    "    res.drop([\"single_publication_perc\"], axis=1)\n",
    "    res = bias.cluster_column(res, bias.PUBLICATION_COUNT_CLUSTERING, \"num_aggl_publications\", newcolumn=\"num_aggl_publications_cluster\")"
   ]
  },
  {
   "cell_type": "code",
   "execution_count": 28,
   "metadata": {},
   "outputs": [
    {
     "name": "stdout",
     "output_type": "stream",
     "text": [
      "Male mean y_perc 0.41123198829154184\n",
      "Male mean y_hat_perc 0.411510095665677\n",
      "0.0002781073741351392\n"
     ]
    }
   ],
   "source": [
    "train_result[\"y_perc\"] = train_result[\"y\"] / train_result[\"num_aggl_publications\"]\n",
    "train_result[\"y_hat_perc\"] = train_result[\"y_hat\"] / train_result[\"num_aggl_publications\"]\n",
    "\n",
    "\n",
    "print(\"Male mean y_perc\", np.mean(train_result[\"y_perc\"]))\n",
    "print(\"Male mean y_hat_perc\", np.mean(train_result[\"y_hat_perc\"]))\n",
    "print(np.mean(train_result[\"y_hat_perc\"]) - np.mean(train_result[\"y_perc\"]))"
   ]
  },
  {
   "cell_type": "code",
   "execution_count": null,
   "metadata": {},
   "outputs": [],
   "source": [
    "test_results[\"female\"][\"y_perc\"] = test_results[\"female\"][\"y\"] / test_results[\"female\"][\"num_aggl_publications\"]\n",
    "test_results[\"female\"][\"y_hat_perc\"] = test_results[\"female\"][\"y_hat\"] / test_results[\"female\"][\"num_aggl_publications\"]\n",
    "\n",
    "test_results[\"male\"][\"y_perc\"] = test_results[\"male\"][\"y\"] / test_results[\"male\"][\"num_aggl_publications\"]\n",
    "test_results[\"male\"][\"y_hat_perc\"] = test_results[\"male\"][\"y_hat\"] / test_results[\"male\"][\"num_aggl_publications\"]\n",
    "\n",
    "\n",
    "\n",
    "print(\"Female mean y_perc\", np.mean(test_results[\"female\"][\"y_perc\"]))\n",
    "print(\"Female mean y_hat_perc\", np.mean(test_results[\"female\"][\"y_hat_perc\"]))\n",
    "print(np.mean(test_results[\"female\"][\"y_hat_perc\"]) - np.mean(test_results[\"female\"][\"y_perc\"]))\n",
    "\n",
    "print(\"Male mean y_perc\", np.mean(test_results[\"male\"][\"y_perc\"]))\n",
    "print(\"Male mean y_hat_perc\", np.mean(test_results[\"male\"][\"y_hat_perc\"]))"
   ]
  },
  {
   "cell_type": "code",
   "execution_count": 30,
   "metadata": {},
   "outputs": [
    {
     "name": "stdout",
     "output_type": "stream",
     "text": [
      "WD y 1.3945331823811076\n",
      "WD y_hat 0.8391907140171082\n",
      "WD y -> h_hat female 0.7625626043757058\n",
      "WD y -> h_hat male 0.5787286325475434\n"
     ]
    }
   ],
   "source": [
    "from scipy.stats import wasserstein_distance\n",
    "\n",
    "print(\"WD y\", wasserstein_distance(test_results[\"male\"][\"y\"], test_results[\"female\"][\"y\"]))\n",
    "print(\"WD y_hat\", wasserstein_distance(test_results[\"male\"][\"y_hat\"], test_results[\"female\"][\"y_hat\"]))\n",
    "\n",
    "print(\"WD y -> h_hat female\", wasserstein_distance(test_results[\"female\"][\"y\"], test_results[\"female\"][\"y_hat\"]))\n",
    "print(\"WD y -> h_hat male\", wasserstein_distance(test_results[\"male\"][\"y\"], test_results[\"male\"][\"y_hat\"]))"
   ]
  },
  {
   "cell_type": "code",
   "execution_count": null,
   "metadata": {},
   "outputs": [],
   "source": [
    "#test_results[\"female\"].to_pickle(\"mb_best_results_single_female.pkl\")\n",
    "#test_results[\"male\"].to_pickle(\"mb_best_results_single_male.pkl\")"
   ]
  },
  {
   "cell_type": "markdown",
   "metadata": {},
   "source": [
    "## Feature importance in trained model"
   ]
  },
  {
   "cell_type": "code",
   "execution_count": null,
   "metadata": {},
   "outputs": [],
   "source": [
    "try:\n",
    "    list(map(print, sorted(zip(feature_names, best_model.feature_importances_), key=lambda t: t[1], reverse=True)))\n",
    "except AttributeError:\n",
    "    list(map(print, sorted(zip(feature_names, best_model.coef_), key=lambda t: abs(t[1]), reverse=True)))"
   ]
  },
  {
   "cell_type": "markdown",
   "metadata": {},
   "source": [
    "## Comparison of model prediction metrics"
   ]
  },
  {
   "cell_type": "code",
   "execution_count": null,
   "metadata": {},
   "outputs": [],
   "source": [
    "print(bias.compare_mb_results(train_result, test_results))"
   ]
  },
  {
   "cell_type": "markdown",
   "metadata": {},
   "source": [
    "## Prediction accuracy plots"
   ]
  },
  {
   "cell_type": "code",
   "execution_count": null,
   "metadata": {},
   "outputs": [],
   "source": [
    "bias.plot_mb_test_results(test_results, SAMPLING_COLUMN, \"y/y_hat\",\n",
    "        axis_callbacks=[lambda x: x.set_ylim([0, 2]), lambda x: x.hlines(1, 0, 55, color=\"black\")]).show()\n",
    "\n",
    "bias.plot_mb_test_results(test_results, SAMPLING_COLUMN, \"y/y_hat\", aggregator=\"median\",\n",
    "        axis_callbacks=[lambda x: x.set_ylim([0, 2]), lambda x: x.hlines(1, 0, 55, color=\"black\")]).show()"
   ]
  },
  {
   "cell_type": "code",
   "execution_count": null,
   "metadata": {},
   "outputs": [],
   "source": [
    "bias.plot_mb_test_results(test_results, SAMPLING_COLUMN, \"y_hat-y\",\n",
    "        axis_callbacks=[lambda x: x.set_ylim([-2, 2]), lambda x: x.hlines(0, 0, 55, color=\"black\")]).show()\n",
    "\n",
    "bias.plot_mb_test_results(test_results, SAMPLING_COLUMN, \"y_hat-y\", aggregator=\"median\",\n",
    "        axis_callbacks=[lambda x: x.set_ylim([-2, 2]), lambda x: x.hlines(0, 0, 55, color=\"black\")]).show()"
   ]
  },
  {
   "cell_type": "code",
   "execution_count": null,
   "metadata": {},
   "outputs": [],
   "source": [
    "bias.plot_mb_test_results(test_results, SAMPLING_COLUMN, \"y_hat+y\",\n",
    "        axis_callbacks=[lambda x: x.set_ylim([0, 10]), lambda x: x.hlines(0, 0, 55, color=\"black\")]).show()\n",
    "\n",
    "bias.plot_mb_test_results(test_results, SAMPLING_COLUMN, \"y_hat+y\", aggregator=\"median\",\n",
    "        axis_callbacks=[lambda x: x.set_ylim([0, 10]), lambda x: x.hlines(0, 0, 55, color=\"black\")]).show()"
   ]
  },
  {
   "cell_type": "code",
   "execution_count": null,
   "metadata": {},
   "outputs": [],
   "source": [
    "bias.plot_mb_test_results(test_results, SAMPLING_COLUMN, \"(y_hat-y)/(y_hat+y)\",\n",
    "        axis_callbacks=[lambda x: x.set_ylim([-0.5, 1]), lambda x: x.hlines(0, 0, 55, color=\"black\")]).show()\n",
    "\n",
    "bias.plot_mb_test_results(test_results, SAMPLING_COLUMN, \"(y_hat-y)/(y_hat+y)\", aggregator=\"median\",\n",
    "        axis_callbacks=[lambda x: x.set_ylim([-0.5, 1]), lambda x: x.hlines(0, 0, 55, color=\"black\")]).show()"
   ]
  },
  {
   "cell_type": "code",
   "execution_count": null,
   "metadata": {},
   "outputs": [],
   "source": [
    "sns.scatterplot(x=\"y_hat-y\", y=\"y_hat+y\", data=test_results[\"female\"])"
   ]
  },
  {
   "cell_type": "code",
   "execution_count": null,
   "metadata": {},
   "outputs": [],
   "source": [
    "sns.scatterplot(x=\"y_hat-y\", y=\"y_hat+y\", data=test_results[\"male\"])"
   ]
  },
  {
   "cell_type": "code",
   "execution_count": null,
   "metadata": {},
   "outputs": [],
   "source": [
    "sns.scatterplot(x=\"y_hat-y\", y=\"author_seniority\", data=test_results[\"male\"])"
   ]
  },
  {
   "cell_type": "code",
   "execution_count": null,
   "metadata": {},
   "outputs": [],
   "source": [
    "sns.scatterplot(x=\"y_hat-y\", y=\"year\", data=test_results[\"male\"])"
   ]
  },
  {
   "cell_type": "markdown",
   "metadata": {},
   "source": [
    "## Graphical distibution of predictions by document publication year"
   ]
  },
  {
   "cell_type": "code",
   "execution_count": null,
   "metadata": {},
   "outputs": [],
   "source": [
    "bias.plot_mb_test_results(test_results, \"year\", [\"y_hat\", \"y\"],\n",
    "        axis_callbacks=[lambda x: x.set_ylim([0, 16]), lambda x: x.set_xlim([1970, 2020])]).show()\n",
    "\n",
    "bias.plot_mb_test_results(bias.combine_mb_gender_predictions(test_results, \"year\"), \"year\", [\"mean_female\", \"mean_male\"],\n",
    "        axis_callbacks=[lambda x: x.set_ylim([0, 16]), lambda x: x.set_xlim([1970, 2020])]).show()\n",
    "\n",
    "\n",
    "bias.plot_mb_test_results(test_results, \"year\", [\"y_hat\", \"y\"], aggregator=\"median\",\n",
    "        axis_callbacks=[lambda x: x.set_ylim([0, 16]), lambda x: x.set_xlim([1970, 2020])]).show()\n",
    "\n",
    "bias.plot_mb_test_results(bias.combine_mb_gender_predictions(test_results, \"year\"), \"year\", [\"mean_female\", \"mean_male\"], aggregator=\"median\",\n",
    "        axis_callbacks=[lambda x: x.set_ylim([0, 16]), lambda x: x.set_xlim([1970, 2020])]).show()"
   ]
  },
  {
   "cell_type": "code",
   "execution_count": null,
   "metadata": {},
   "outputs": [],
   "source": [
    "bias.plot_mb_test_results(test_results, \"year\", [\"single_publication_perc\"],\n",
    "        axis_callbacks=[lambda x: x.set_xlim([1970, 2020])]).show()\n",
    "\n",
    "#bias.plot_mb_test_results(bias.combine_mb_gender_predictions(test_results, \"year\"), \"year\", [\"mean_female\", \"mean_male\"],\n",
    "#        axis_callbacks=[lambda x: x.set_ylim([0, 16]), lambda x: x.set_xlim([1970, 2020])]).show()"
   ]
  },
  {
   "cell_type": "markdown",
   "metadata": {},
   "source": [
    "## Graphical distibution of predictions by author seniority"
   ]
  },
  {
   "cell_type": "code",
   "execution_count": null,
   "metadata": {},
   "outputs": [],
   "source": [
    "bias.plot_mb_test_results(test_results, \"author_seniority\", [\"y_hat\", \"y\"],\n",
    "        axis_callbacks=[lambda x: x.set_ylim([0, 35]), lambda x: x.set_xlim([0, 50])]).show()\n",
    "\n",
    "bias.plot_mb_test_results(bias.combine_mb_gender_predictions(test_results, \"author_seniority\"), \"author_seniority\", [\"mean_female\", \"mean_male\"],\n",
    "        axis_callbacks=[lambda x: x.set_ylim([0, 35]), lambda x: x.set_xlim([0, 50])]).show()\n",
    "\n",
    "\n",
    "bias.plot_mb_test_results(test_results, \"author_seniority\", [\"y_hat\", \"y\"], aggregator=\"median\",\n",
    "        axis_callbacks=[lambda x: x.set_ylim([0, 35]), lambda x: x.set_xlim([0, 50])]).show()\n",
    "\n",
    "bias.plot_mb_test_results(bias.combine_mb_gender_predictions(test_results, \"author_seniority\"), \"author_seniority\", [\"mean_female\", \"mean_male\"], aggregator=\"median\",\n",
    "        axis_callbacks=[lambda x: x.set_ylim([0, 35]), lambda x: x.set_xlim([0, 50])]).show()"
   ]
  },
  {
   "cell_type": "code",
   "execution_count": null,
   "metadata": {},
   "outputs": [],
   "source": [
    "bias.plot_mb_test_results(test_results, \"author_seniority\", [\"single_publication_perc\"],\n",
    "        axis_callbacks=[lambda x: x.set_xlim([0, 60])]).show()"
   ]
  },
  {
   "cell_type": "markdown",
   "metadata": {},
   "source": [
    "## Graphical distibution of predictions by (clustered) number of publications per author"
   ]
  },
  {
   "cell_type": "code",
   "execution_count": null,
   "metadata": {},
   "outputs": [],
   "source": [
    "bias.plot_mb_test_results(test_results, \"num_aggl_publications\", [\"y_hat\", \"y\"],\n",
    "        axis_callbacks=[lambda x: x.set_ylim([0, 50]), lambda x: x.set_xlim([0, 150])]).show()\n",
    "\n",
    "bias.plot_mb_test_results(bias.combine_mb_gender_predictions(test_results, \"num_aggl_publications\"), \"num_aggl_publications\", [\"mean_female\", \"mean_male\"],\n",
    "        axis_callbacks=[lambda x: x.set_ylim([0, 50]), lambda x: x.set_xlim([0, 150])]).show()\n",
    "\n",
    "bias.plot_mb_test_results(test_results, \"num_aggl_publications_cluster\", [\"y_hat\", \"y\"],\n",
    "        axis_callbacks=[lambda x: x.set_ylim([0, 30])]).show()\n",
    "\n",
    "bias.plot_mb_test_results(bias.combine_mb_gender_predictions(test_results, \"num_aggl_publications_cluster\"), \"num_aggl_publications_cluster\", [\"mean_female\", \"mean_male\"],\n",
    "        axis_callbacks=[lambda x: x.set_ylim([0, 30])]).show()\n",
    "\n",
    "\n",
    "bias.plot_mb_test_results(test_results, \"num_aggl_publications\", [\"y_hat\", \"y\"], aggregator=\"median\",\n",
    "        axis_callbacks=[lambda x: x.set_ylim([0, 50]), lambda x: x.set_xlim([0, 150])]).show()\n",
    "\n",
    "bias.plot_mb_test_results(bias.combine_mb_gender_predictions(test_results, \"num_aggl_publications\"), \"num_aggl_publications\", [\"mean_female\", \"mean_male\"], aggregator=\"median\",\n",
    "        axis_callbacks=[lambda x: x.set_ylim([0, 50]), lambda x: x.set_xlim([0, 150])]).show()\n",
    "\n",
    "bias.plot_mb_test_results(test_results, \"num_aggl_publications_cluster\", [\"y_hat\", \"y\"], aggregator=\"median\",\n",
    "        axis_callbacks=[lambda x: x.set_ylim([0, 30])]).show()\n",
    "\n",
    "bias.plot_mb_test_results(bias.combine_mb_gender_predictions(test_results, \"num_aggl_publications_cluster\"), \"num_aggl_publications_cluster\", [\"mean_female\", \"mean_male\"], aggregator=\"median\",\n",
    "        axis_callbacks=[lambda x: x.set_ylim([0, 30])]).show()"
   ]
  },
  {
   "cell_type": "code",
   "execution_count": null,
   "metadata": {},
   "outputs": [],
   "source": [
    "bias.plot_mb_test_results(test_results, \"num_aggl_publications\", [\"single_publication_perc\"],\n",
    "        axis_callbacks=[]).show()\n",
    "\n",
    "bias.plot_mb_test_results(test_results, \"num_aggl_publications_cluster\", [\"single_publication_perc\"],\n",
    "        axis_callbacks=[]).show()"
   ]
  },
  {
   "cell_type": "markdown",
   "metadata": {},
   "source": [
    "## Manual comparison with worst model"
   ]
  },
  {
   "cell_type": "code",
   "execution_count": null,
   "metadata": {},
   "outputs": [],
   "source": [
    "MODEL_w = GradientBoostingRegressor(min_samples_leaf=30, n_estimators=140, max_depth=6)\n",
    "\n",
    "train_result_w, test_results_w = bias.single_train_multi_test_eval(\n",
    "        MODEL_w, X_train_t, y_train, copy=[\"year\", \"author_seniority\", \"num_aggl_publications\"],\n",
    "        female=(X_female_test_t, y_female_test), male=(X_male_test_t, y_male_test))"
   ]
  },
  {
   "cell_type": "code",
   "execution_count": null,
   "metadata": {},
   "outputs": [],
   "source": [
    "# Add additional evaluation metrics\n",
    "for res in [train_result_w] + list(test_results_w.values()):\n",
    "    res[\"y/y_hat\"] = res[\"y\"]/res[\"y_hat\"]\n",
    "    res[\"y_hat-y\"] = res[\"y_hat\"]-res[\"y\"]\n",
    "    res[\"y_hat+y\"] = res[\"y_hat\"]+res[\"y\"]\n",
    "    res[\"(y_hat-y)/(y_hat+y)\"] = res[\"y_hat-y\"]/res[\"y_hat+y\"]\n",
    "    res[\"y_perc\"] = res[\"y\"]*100 / res[\"num_aggl_publications\"]\n",
    "    res[\"y_hat_perc\"] = res[\"y_hat\"]*100 / res[\"num_aggl_publications\"]\n",
    "    res = bias.cluster_column(res, bias.PUBLICATION_COUNT_CLUSTERING, \"num_aggl_publications\", newcolumn=\"num_aggl_publications_cluster\")"
   ]
  },
  {
   "cell_type": "code",
   "execution_count": null,
   "metadata": {},
   "outputs": [],
   "source": [
    "try:\n",
    "    list(map(print, sorted(zip(feature_names, MODEL_w.feature_importances_), key=lambda t: t[1], reverse=True)))\n",
    "except AttributeError:\n",
    "    list(map(print, sorted(zip(feature_names, MODEL_w.coef_), key=lambda t: abs(t[1]), reverse=True)))\n",
    "\n",
    "print(bias.compare_mb_results(train_result_w, test_results_w))\n",
    "\n",
    "bias.plot_mb_test_results(test_results_w, SAMPLING_COLUMN, \"y/y_hat\",\n",
    "        axis_callbacks=[lambda x: x.set_ylim([0, 2]), lambda x: x.hlines(1, 0, 55, color=\"black\")]).show()"
   ]
  },
  {
   "cell_type": "markdown",
   "metadata": {},
   "source": [
    "## Manual comparison with less overfitting and performing models"
   ]
  },
  {
   "cell_type": "code",
   "execution_count": null,
   "metadata": {},
   "outputs": [],
   "source": [
    "MODEL_1 = GradientBoostingRegressor(min_samples_leaf=10, n_estimators=190, max_depth=11, random_state=RANDOM_STATE)\n",
    "# mean_train_score  mean_test_score\n",
    "# 0.798202          0.752738\n",
    "\n",
    "\n",
    "train_result_1, test_results_1 = bias.single_train_multi_test_eval(\n",
    "        MODEL_1, X_train_t, y_train, copy=[\"year\", \"author_seniority\", \"num_aggl_publications\"],\n",
    "        female=(X_female_test_t, y_female_test), male=(X_male_test_t, y_male_test))"
   ]
  },
  {
   "cell_type": "code",
   "execution_count": null,
   "metadata": {},
   "outputs": [],
   "source": [
    "# Add additional evaluation metrics\n",
    "for res in [train_result_1] + list(test_results_1.values()):\n",
    "    res[\"y/y_hat\"] = res[\"y\"]/res[\"y_hat\"]\n",
    "    res[\"y_hat-y\"] = res[\"y_hat\"]-res[\"y\"]\n",
    "    res[\"y_hat+y\"] = res[\"y_hat\"]+res[\"y\"]\n",
    "    res[\"(y_hat-y)/(y_hat+y)\"] = res[\"y_hat-y\"]/res[\"y_hat+y\"]\n",
    "    res[\"y_perc\"] = res[\"y\"]*100 / res[\"num_aggl_publications\"]\n",
    "    res[\"y_hat_perc\"] = res[\"y_hat\"]*100 / res[\"num_aggl_publications\"]\n",
    "    res.drop([\"single_publication_perc\"], axis=1)\n",
    "    res = bias.cluster_column(res, bias.PUBLICATION_COUNT_CLUSTERING, \"num_aggl_publications\", newcolumn=\"num_aggl_publications_cluster\")"
   ]
  },
  {
   "cell_type": "code",
   "execution_count": null,
   "metadata": {},
   "outputs": [],
   "source": [
    "bias.plot_mb_test_results(test_results, \"year\", [\"single_publication_perc\"],\n",
    "        axis_callbacks=[lambda x: x.set_xlim([1970, 2020])]).show()\n",
    "\n",
    "bias.plot_mb_test_results(test_results, \"author_seniority\", [\"single_publication_perc\"],\n",
    "        axis_callbacks=[lambda x: x.set_xlim([0, 60])]).show()\n",
    "\n",
    "bias.plot_mb_test_results(test_results_1, \"num_aggl_publications\", [\"single_publication_perc\"],\n",
    "        axis_callbacks=[lambda x: x.set_xlim([0, 200])]).show()\n",
    "\n",
    "bias.plot_mb_test_results(test_results_1, \"num_aggl_publications_cluster\", [\"single_publication_perc\"],\n",
    "        axis_callbacks=[]).show()"
   ]
  },
  {
   "cell_type": "code",
   "execution_count": null,
   "metadata": {},
   "outputs": [],
   "source": [
    "try:\n",
    "    list(map(print, sorted(zip(feature_names, MODEL_1.feature_importances_), key=lambda t: t[1], reverse=True)))\n",
    "except AttributeError:\n",
    "    list(map(print, sorted(zip(feature_names, MODEL_1.coef_), key=lambda t: abs(t[1]), reverse=True)))\n",
    "\n",
    "\n",
    "## Scores\n",
    "    \n",
    "print(bias.compare_mb_results(train_result_1, test_results_1))\n",
    "\n",
    "\n",
    "## Plots\n",
    "\n",
    "bias.plot_mb_test_results(test_results_1, SAMPLING_COLUMN, \"y/y_hat\",\n",
    "        axis_callbacks=[lambda x: x.set_ylim([0, 2]), lambda x: x.hlines(1, 0, 55, color=\"black\")]).show()\n",
    "\n",
    "bias.plot_mb_test_results(test_results_1, SAMPLING_COLUMN, \"y/y_hat\", aggregator=\"median\",\n",
    "        axis_callbacks=[lambda x: x.set_ylim([0, 2]), lambda x: x.hlines(1, 0, 55, color=\"black\")]).show()\n",
    "\n",
    "\n",
    "\n",
    "bias.plot_mb_test_results(test_results_1, \"year\", [\"y_hat\", \"y\"],\n",
    "        axis_callbacks=[lambda x: x.set_ylim([0, 16]), lambda x: x.set_xlim([1970, 2020])]).show()\n",
    "\n",
    "bias.plot_mb_test_results(bias.combine_mb_gender_predictions(test_results_1, \"year\"), \"year\", [\"mean_female\", \"mean_male\"],\n",
    "        axis_callbacks=[lambda x: x.set_ylim([0, 16]), lambda x: x.set_xlim([1970, 2020])]).show()\n",
    "\n",
    "bias.plot_mb_test_results(test_results_1, \"year\", [\"y_hat\", \"y\"], aggregator=\"median\",\n",
    "        axis_callbacks=[lambda x: x.set_ylim([0, 16]), lambda x: x.set_xlim([1970, 2020])]).show()\n",
    "\n",
    "bias.plot_mb_test_results(bias.combine_mb_gender_predictions(test_results_1, \"year\"), \"year\", [\"median_female\", \"median_male\"], aggregator=\"median\",\n",
    "        axis_callbacks=[lambda x: x.set_ylim([0, 16]), lambda x: x.set_xlim([1970, 2020])]).show()\n",
    "\n",
    "\n",
    "bias.plot_mb_test_results(test_results_1, \"author_seniority\", [\"y_hat\", \"y\"],\n",
    "        axis_callbacks=[lambda x: x.set_ylim([0, 35]), lambda x: x.set_xlim([0, 50])]).show()\n",
    "\n",
    "bias.plot_mb_test_results(bias.combine_mb_gender_predictions(test_results_1, \"author_seniority\"), \"author_seniority\", [\"mean_female\", \"mean_male\"],\n",
    "        axis_callbacks=[lambda x: x.set_ylim([0, 35]), lambda x: x.set_xlim([0, 50])]).show()\n",
    "\n",
    "bias.plot_mb_test_results(test_results_1, \"author_seniority\", [\"y_hat\", \"y\"], aggregator=\"median\",\n",
    "        axis_callbacks=[lambda x: x.set_ylim([0, 35]), lambda x: x.set_xlim([0, 50])]).show()\n",
    "\n",
    "bias.plot_mb_test_results(bias.combine_mb_gender_predictions(test_results_1, \"author_seniority\"), \"author_seniority\", [\"median_female\", \"median_male\"], aggregator=\"median\",\n",
    "        axis_callbacks=[lambda x: x.set_ylim([0, 35]), lambda x: x.set_xlim([0, 50])]).show()\n",
    "\n",
    "\n",
    "\n",
    "bias.plot_mb_test_results(test_results_1, \"num_aggl_publications\", [\"y_hat\", \"y\"],\n",
    "        axis_callbacks=[lambda x: x.set_ylim([0, 50]), lambda x: x.set_xlim([0, 150])]).show()\n",
    "\n",
    "bias.plot_mb_test_results(bias.combine_mb_gender_predictions(test_results_1, \"num_aggl_publications\"), \"num_aggl_publications\", [\"mean_female\", \"mean_male\"],\n",
    "        axis_callbacks=[lambda x: x.set_ylim([0, 50]), lambda x: x.set_xlim([0, 150])]).show()\n",
    "\n",
    "bias.plot_mb_test_results(test_results_1, \"num_aggl_publications_cluster\", [\"y_hat\", \"y\"],\n",
    "        axis_callbacks=[lambda x: x.set_ylim([0, 30])]).show()\n",
    "\n",
    "bias.plot_mb_test_results(bias.combine_mb_gender_predictions(test_results_1, \"num_aggl_publications_cluster\"), \"num_aggl_publications_cluster\", [\"mean_female\", \"mean_male\"],\n",
    "        axis_callbacks=[lambda x: x.set_ylim([0, 30])]).show()\n",
    "\n",
    "bias.plot_mb_test_results(test_results_1, \"num_aggl_publications\", [\"y_hat\", \"y\"], aggregator=\"median\",\n",
    "        axis_callbacks=[lambda x: x.set_ylim([0, 50]), lambda x: x.set_xlim([0, 150])]).show()\n",
    "\n",
    "bias.plot_mb_test_results(bias.combine_mb_gender_predictions(test_results_1, \"num_aggl_publications\"), \"num_aggl_publications\", [\"median_female\", \"median_male\"], aggregator=\"median\",\n",
    "        axis_callbacks=[lambda x: x.set_ylim([0, 50]), lambda x: x.set_xlim([0, 150])]).show()\n",
    "\n",
    "bias.plot_mb_test_results(test_results_1, \"num_aggl_publications_cluster\", [\"y_hat\", \"y\"], aggregator=\"median\",\n",
    "        axis_callbacks=[lambda x: x.set_ylim([0, 30])]).show()\n",
    "\n",
    "bias.plot_mb_test_results(bias.combine_mb_gender_predictions(test_results_1, \"num_aggl_publications_cluster\"), \"num_aggl_publications_cluster\", [\"median_female\", \"median_male\"], aggregator=\"median\",\n",
    "        axis_callbacks=[lambda x: x.set_ylim([0, 30])]).show()"
   ]
  },
  {
   "cell_type": "code",
   "execution_count": null,
   "metadata": {},
   "outputs": [],
   "source": [
    "MODEL_2 = GradientBoostingRegressor(min_samples_leaf=10, n_estimators=160, max_depth=15, random_state=RANDOM_STATE)\n",
    "# mean_train_score  mean_test_score\n",
    "# 0.821920          0.739097\n",
    "\n",
    "\n",
    "train_result_2, test_results_2 = bias.single_train_multi_test_eval(\n",
    "        MODEL_2, X_train_t, y_train, copy=[\"year\", \"author_seniority\", \"num_aggl_publications\"],\n",
    "        female=(X_female_test_t, y_female_test), male=(X_male_test_t, y_male_test))\n",
    "\n",
    "# Add additional evaluation metrics\n",
    "for res in [train_result_2] + list(test_results_2.values()):\n",
    "    res[\"y/y_hat\"] = res[\"y\"]/res[\"y_hat\"]\n",
    "    res[\"y_hat-y\"] = res[\"y_hat\"]-res[\"y\"]\n",
    "    res[\"y_hat+y\"] = res[\"y_hat\"]+res[\"y\"]\n",
    "    res[\"(y_hat-y)/(y_hat+y)\"] = res[\"y_hat-y\"]/res[\"y_hat+y\"]\n",
    "    res = bias.cluster_column(res, bias.PUBLICATION_COUNT_CLUSTERING, \"num_aggl_publications\", newcolumn=\"num_aggl_publications_cluster\")"
   ]
  },
  {
   "cell_type": "code",
   "execution_count": null,
   "metadata": {},
   "outputs": [],
   "source": [
    "try:\n",
    "    list(map(print, sorted(zip(feature_names, MODEL_2.feature_importances_), key=lambda t: t[1], reverse=True)))\n",
    "except AttributeError:\n",
    "    list(map(print, sorted(zip(feature_names, MODEL_2.coef_), key=lambda t: abs(t[1]), reverse=True)))\n",
    "\n",
    "\n",
    "## Scores\n",
    "    \n",
    "print(bias.compare_mb_results(train_result_2, test_results_2))\n",
    "\n",
    "\n",
    "## Plots\n",
    "\n",
    "bias.plot_mb_test_results(test_results_2, SAMPLING_COLUMN, \"y/y_hat\",\n",
    "        axis_callbacks=[lambda x: x.set_ylim([0, 2]), lambda x: x.hlines(1, 0, 55, color=\"black\")]).show()\n",
    "\n",
    "bias.plot_mb_test_results(test_results_2, SAMPLING_COLUMN, \"y/y_hat\", aggregator=\"median\",\n",
    "        axis_callbacks=[lambda x: x.set_ylim([0, 2]), lambda x: x.hlines(1, 0, 55, color=\"black\")]).show()\n",
    "\n",
    "\n",
    "\n",
    "bias.plot_mb_test_results(test_results_2, \"year\", [\"y_hat\", \"y\"],\n",
    "        axis_callbacks=[lambda x: x.set_ylim([0, 16]), lambda x: x.set_xlim([1970, 2020])]).show()\n",
    "\n",
    "bias.plot_mb_test_results(bias.combine_mb_gender_predictions(test_results_2, \"year\"), \"year\", [\"mean_female\", \"mean_male\"],\n",
    "        axis_callbacks=[lambda x: x.set_ylim([0, 16]), lambda x: x.set_xlim([1970, 2020])]).show()\n",
    "\n",
    "bias.plot_mb_test_results(test_results_2, \"year\", [\"y_hat\", \"y\"], aggregator=\"median\",\n",
    "        axis_callbacks=[lambda x: x.set_ylim([0, 16]), lambda x: x.set_xlim([1970, 2020])]).show()\n",
    "\n",
    "bias.plot_mb_test_results(bias.combine_mb_gender_predictions(test_results_2, \"year\"), \"year\", [\"median_female\", \"median_male\"], aggregator=\"median\",\n",
    "        axis_callbacks=[lambda x: x.set_ylim([0, 16]), lambda x: x.set_xlim([1970, 2020])]).show()\n",
    "\n",
    "\n",
    "bias.plot_mb_test_results(test_results_2, \"author_seniority\", [\"y_hat\", \"y\"],\n",
    "        axis_callbacks=[lambda x: x.set_ylim([0, 35]), lambda x: x.set_xlim([0, 50])]).show()\n",
    "\n",
    "bias.plot_mb_test_results(bias.combine_mb_gender_predictions(test_results_2, \"author_seniority\"), \"author_seniority\", [\"mean_female\", \"mean_male\"],\n",
    "        axis_callbacks=[lambda x: x.set_ylim([0, 35]), lambda x: x.set_xlim([0, 50])]).show()\n",
    "\n",
    "bias.plot_mb_test_results(test_results_2, \"author_seniority\", [\"y_hat\", \"y\"], aggregator=\"median\",\n",
    "        axis_callbacks=[lambda x: x.set_ylim([0, 35]), lambda x: x.set_xlim([0, 50])]).show()\n",
    "\n",
    "bias.plot_mb_test_results(bias.combine_mb_gender_predictions(test_results_2, \"author_seniority\"), \"author_seniority\", [\"median_female\", \"median_male\"], aggregator=\"median\",\n",
    "        axis_callbacks=[lambda x: x.set_ylim([0, 35]), lambda x: x.set_xlim([0, 50])]).show()\n",
    "\n",
    "\n",
    "\n",
    "bias.plot_mb_test_results(test_results_2, \"num_aggl_publications\", [\"y_hat\", \"y\"],\n",
    "        axis_callbacks=[lambda x: x.set_ylim([0, 50]), lambda x: x.set_xlim([0, 150])]).show()\n",
    "\n",
    "bias.plot_mb_test_results(bias.combine_mb_gender_predictions(test_results_2, \"num_aggl_publications\"), \"num_aggl_publications\", [\"mean_female\", \"mean_male\"],\n",
    "        axis_callbacks=[lambda x: x.set_ylim([0, 50]), lambda x: x.set_xlim([0, 150])]).show()\n",
    "\n",
    "bias.plot_mb_test_results(test_results_2, \"num_aggl_publications_cluster\", [\"y_hat\", \"y\"],\n",
    "        axis_callbacks=[lambda x: x.set_ylim([0, 30])]).show()\n",
    "\n",
    "bias.plot_mb_test_results(bias.combine_mb_gender_predictions(test_results_2, \"num_aggl_publications_cluster\"), \"num_aggl_publications_cluster\", [\"mean_female\", \"mean_male\"],\n",
    "        axis_callbacks=[lambda x: x.set_ylim([0, 30])]).show()\n",
    "\n",
    "bias.plot_mb_test_results(test_results_2, \"num_aggl_publications\", [\"y_hat\", \"y\"], aggregator=\"median\",\n",
    "        axis_callbacks=[lambda x: x.set_ylim([0, 50]), lambda x: x.set_xlim([0, 150])]).show()\n",
    "\n",
    "bias.plot_mb_test_results(bias.combine_mb_gender_predictions(test_results_2, \"num_aggl_publications\"), \"num_aggl_publications\", [\"median_female\", \"median_male\"], aggregator=\"median\",\n",
    "        axis_callbacks=[lambda x: x.set_ylim([0, 50]), lambda x: x.set_xlim([0, 150])]).show()\n",
    "\n",
    "bias.plot_mb_test_results(test_results_2, \"num_aggl_publications_cluster\", [\"y_hat\", \"y\"], aggregator=\"median\",\n",
    "        axis_callbacks=[lambda x: x.set_ylim([0, 30])]).show()\n",
    "\n",
    "bias.plot_mb_test_results(bias.combine_mb_gender_predictions(test_results_2, \"num_aggl_publications_cluster\"), \"num_aggl_publications_cluster\", [\"median_female\", \"median_male\"], aggregator=\"median\",\n",
    "        axis_callbacks=[lambda x: x.set_ylim([0, 30])]).show()"
   ]
  },
  {
   "cell_type": "code",
   "execution_count": null,
   "metadata": {},
   "outputs": [],
   "source": []
  }
 ],
 "metadata": {
  "kernelspec": {
   "display_name": "Python 3",
   "language": "python",
   "name": "python3"
  },
  "language_info": {
   "codemirror_mode": {
    "name": "ipython",
    "version": 3
   },
   "file_extension": ".py",
   "mimetype": "text/x-python",
   "name": "python",
   "nbconvert_exporter": "python",
   "pygments_lexer": "ipython3",
   "version": "3.8.5"
  }
 },
 "nbformat": 4,
 "nbformat_minor": 4
}
